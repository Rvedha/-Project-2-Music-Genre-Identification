{
  "nbformat": 4,
  "nbformat_minor": 0,
  "metadata": {
    "colab": {
      "name": "Music Genres.ipynb",
      "provenance": [],
      "collapsed_sections": [],
      "authorship_tag": "ABX9TyOKRE4BYHkcYxHbQ89VhlRZ",
      "include_colab_link": true
    },
    "kernelspec": {
      "name": "python3",
      "display_name": "Python 3"
    }
  },
  "cells": [
    {
      "cell_type": "markdown",
      "metadata": {
        "id": "view-in-github",
        "colab_type": "text"
      },
      "source": [
        "<a href=\"https://colab.research.google.com/github/Jayshree2816/Music-Genres/blob/master/Music_Genres.ipynb\" target=\"_parent\"><img src=\"https://colab.research.google.com/assets/colab-badge.svg\" alt=\"Open In Colab\"/></a>"
      ]
    },
    {
      "cell_type": "markdown",
      "metadata": {
        "id": "6qrMiyK0YVms"
      },
      "source": [
        "# Import Libraries"
      ]
    },
    {
      "cell_type": "code",
      "metadata": {
        "id": "KdVUp-AqYvCi"
      },
      "source": [
        "%matplotlib inline\r\n",
        "import os\r\n",
        "import pandas as pd\r\n",
        "import numpy as np\r\n",
        "from glob import glob"
      ],
      "execution_count": null,
      "outputs": []
    },
    {
      "cell_type": "code",
      "metadata": {
        "colab": {
          "base_uri": "https://localhost:8080/"
        },
        "id": "jTVWB4iwYu_x",
        "outputId": "235b78f1-d3a5-4b34-9943-269e10eb89cb"
      },
      "source": [
        "!pip install memory_profiler"
      ],
      "execution_count": null,
      "outputs": [
        {
          "output_type": "stream",
          "text": [
            "Collecting memory_profiler\n",
            "  Downloading https://files.pythonhosted.org/packages/8f/fd/d92b3295657f8837e0177e7b48b32d6651436f0293af42b76d134c3bb489/memory_profiler-0.58.0.tar.gz\n",
            "Requirement already satisfied: psutil in /usr/local/lib/python3.6/dist-packages (from memory_profiler) (5.4.8)\n",
            "Building wheels for collected packages: memory-profiler\n",
            "  Building wheel for memory-profiler (setup.py) ... \u001b[?25l\u001b[?25hdone\n",
            "  Created wheel for memory-profiler: filename=memory_profiler-0.58.0-cp36-none-any.whl size=30181 sha256=80cdb9731fb60743942e6f570c18eaabb3196efbe8fbc21f42ac07917a6057fd\n",
            "  Stored in directory: /root/.cache/pip/wheels/02/e4/0b/aaab481fc5dd2a4ea59e78bc7231bb6aae7635ca7ee79f8ae5\n",
            "Successfully built memory-profiler\n",
            "Installing collected packages: memory-profiler\n",
            "Successfully installed memory-profiler-0.58.0\n"
          ],
          "name": "stdout"
        }
      ]
    },
    {
      "cell_type": "code",
      "metadata": {
        "id": "opxIoocdYvFD"
      },
      "source": [
        "%%capture\r\n",
        "!apt-get install libav-tools -y"
      ],
      "execution_count": null,
      "outputs": []
    },
    {
      "cell_type": "code",
      "metadata": {
        "id": "-RQXVYAMYvNM"
      },
      "source": [
        "from tensorflow.keras import layers\r\n",
        "from tensorflow.keras import models\r\n",
        "from tensorflow.keras.layers import LeakyReLU\r\n",
        "from tensorflow.keras.optimizers import Adam\r\n",
        "import tensorflow.keras.backend as K\r\n",
        "import librosa\r\n",
        "import librosa.display\r\n",
        "import pylab\r\n",
        "from matplotlib import figure\r\n",
        "import gc\r\n",
        "from path import Path\r\n",
        "from sklearn.metrics import mean_squared_error"
      ],
      "execution_count": null,
      "outputs": []
    },
    {
      "cell_type": "markdown",
      "metadata": {
        "id": "tshBHhU5YNHi"
      },
      "source": [
        "# Import Dataset"
      ]
    },
    {
      "cell_type": "code",
      "metadata": {
        "colab": {
          "base_uri": "https://localhost:8080/"
        },
        "id": "giaFquYOYvI1",
        "outputId": "c1cea823-53f3-4399-b04a-0a668e8bf1ba"
      },
      "source": [
        "!pip install path"
      ],
      "execution_count": null,
      "outputs": [
        {
          "output_type": "stream",
          "text": [
            "Collecting path\n",
            "  Downloading https://files.pythonhosted.org/packages/79/07/fff7123a7fb78aaa0757a70a4ab4bc0f74796c61ddfb12a40122462eeabb/path-15.1.0-py3-none-any.whl\n",
            "Installing collected packages: path\n",
            "Successfully installed path-15.1.0\n"
          ],
          "name": "stdout"
        }
      ]
    },
    {
      "cell_type": "code",
      "metadata": {
        "colab": {
          "base_uri": "https://localhost:8080/"
        },
        "id": "kOqh851aYu7O",
        "outputId": "e48c0b7b-69f3-455f-e8d0-d56a8c9e64ea"
      },
      "source": [
        "!wget https://www.dropbox.com/s/4jw31k5mlzcmgis/genres.tar.gz"
      ],
      "execution_count": null,
      "outputs": [
        {
          "output_type": "stream",
          "text": [
            "--2021-02-12 04:12:09--  https://www.dropbox.com/s/4jw31k5mlzcmgis/genres.tar.gz\n",
            "Resolving www.dropbox.com (www.dropbox.com)... 162.125.5.18, 2620:100:601d:18::a27d:512\n",
            "Connecting to www.dropbox.com (www.dropbox.com)|162.125.5.18|:443... connected.\n",
            "HTTP request sent, awaiting response... 301 Moved Permanently\n",
            "Location: /s/raw/4jw31k5mlzcmgis/genres.tar.gz [following]\n",
            "--2021-02-12 04:12:09--  https://www.dropbox.com/s/raw/4jw31k5mlzcmgis/genres.tar.gz\n",
            "Reusing existing connection to www.dropbox.com:443.\n",
            "HTTP request sent, awaiting response... 302 Found\n",
            "Location: https://ucd2442edfdd0f8c5f9e7ead4559.dl.dropboxusercontent.com/cd/0/inline/BIxEuaP_-NkEIOE7ID0EUM_3jKomdWV1ufSR0CB2z4Nu0LeNDEB884onqCAPkMQmx4crXLxYBwXS06dJenCmVgW6tMuDlsal4Xl9WTSYaMSFKA/file# [following]\n",
            "--2021-02-12 04:12:09--  https://ucd2442edfdd0f8c5f9e7ead4559.dl.dropboxusercontent.com/cd/0/inline/BIxEuaP_-NkEIOE7ID0EUM_3jKomdWV1ufSR0CB2z4Nu0LeNDEB884onqCAPkMQmx4crXLxYBwXS06dJenCmVgW6tMuDlsal4Xl9WTSYaMSFKA/file\n",
            "Resolving ucd2442edfdd0f8c5f9e7ead4559.dl.dropboxusercontent.com (ucd2442edfdd0f8c5f9e7ead4559.dl.dropboxusercontent.com)... 162.125.5.15, 2620:100:601d:15::a27d:50f\n",
            "Connecting to ucd2442edfdd0f8c5f9e7ead4559.dl.dropboxusercontent.com (ucd2442edfdd0f8c5f9e7ead4559.dl.dropboxusercontent.com)|162.125.5.15|:443... connected.\n",
            "HTTP request sent, awaiting response... 302 Found\n",
            "Location: /cd/0/inline2/BIyAnUbVcVxEasIbVC90pE_hwigolkKerM_leC27lvEK5mE1TiCZfLiygor6a0H_XopWnrmvpOm49gFM47STs6Jrvw1gB7W3YMIG_NtvCeAZRW5Nac6p-Gh5l5zXe_4BWgnmTbMkEpBtdec3p062HpsSz5bTIXmZGs2bxOG4_7T6mL5hJTctUrZYPs_fANMp08zGGaP85kTAhhPBD4_jlywoglAPFMVPCqfOkBjYJbyImpJkxzKiK8WneLByhxJDKX2EJPAL6VQpfRvk9q1ZBhcaS3bhk3qjSWlErWXUAeGZhIiGH46mphIGOEYini7lvYvK98vNdNpfmNnOM2Kgrsf8/file [following]\n",
            "--2021-02-12 04:12:10--  https://ucd2442edfdd0f8c5f9e7ead4559.dl.dropboxusercontent.com/cd/0/inline2/BIyAnUbVcVxEasIbVC90pE_hwigolkKerM_leC27lvEK5mE1TiCZfLiygor6a0H_XopWnrmvpOm49gFM47STs6Jrvw1gB7W3YMIG_NtvCeAZRW5Nac6p-Gh5l5zXe_4BWgnmTbMkEpBtdec3p062HpsSz5bTIXmZGs2bxOG4_7T6mL5hJTctUrZYPs_fANMp08zGGaP85kTAhhPBD4_jlywoglAPFMVPCqfOkBjYJbyImpJkxzKiK8WneLByhxJDKX2EJPAL6VQpfRvk9q1ZBhcaS3bhk3qjSWlErWXUAeGZhIiGH46mphIGOEYini7lvYvK98vNdNpfmNnOM2Kgrsf8/file\n",
            "Reusing existing connection to ucd2442edfdd0f8c5f9e7ead4559.dl.dropboxusercontent.com:443.\n",
            "HTTP request sent, awaiting response... 200 OK\n",
            "Length: 1225573614 (1.1G) [application/octet-stream]\n",
            "Saving to: ‘genres.tar.gz’\n",
            "\n",
            "genres.tar.gz       100%[===================>]   1.14G  67.0MB/s    in 19s     \n",
            "\n",
            "2021-02-12 04:12:30 (62.6 MB/s) - ‘genres.tar.gz’ saved [1225573614/1225573614]\n",
            "\n"
          ],
          "name": "stdout"
        }
      ]
    },
    {
      "cell_type": "code",
      "metadata": {
        "id": "PI0hlHOdYu9l"
      },
      "source": [
        "import tarfile\r\n",
        "\r\n",
        "fname = '/content/genres.tar.gz'\r\n",
        "\r\n",
        "if fname.endswith(\"tar.gz\"):\r\n",
        "\r\n",
        "    tar = tarfile.open(fname, \"r:gz\")\r\n",
        "    tar.extractall()\r\n",
        "    tar.close()"
      ],
      "execution_count": null,
      "outputs": []
    },
    {
      "cell_type": "code",
      "metadata": {
        "id": "oRIC7obSdl6U"
      },
      "source": [
        "import csv\r\n",
        "\r\n",
        "# Preprocessing\r\n",
        "from sklearn.model_selection import train_test_split\r\n",
        "from sklearn.preprocessing import LabelEncoder, StandardScaler\r\n",
        "import matplotlib.pyplot as plt\r\n",
        "import pathlib\r\n",
        "#Keras\r\n",
        "import keras\r\n",
        "\r\n",
        "import warnings\r\n",
        "warnings.filterwarnings('ignore')"
      ],
      "execution_count": null,
      "outputs": []
    },
    {
      "cell_type": "code",
      "metadata": {
        "colab": {
          "base_uri": "https://localhost:8080/",
          "height": 34
        },
        "id": "FR1Up6DHdl8g",
        "outputId": "7bbf7cf8-8133-48c4-d7f5-7aac8d9dcdaf"
      },
      "source": [
        "cmap = plt.get_cmap('inferno')\r\n",
        "\r\n",
        "plt.figure(figsize=(10,10))\r\n",
        "genres = 'blues classical country disco hiphop jazz metal pop reggae rock'.split()\r\n",
        "for g in genres:\r\n",
        "    pathlib.Path(f'/content/ouput/{g}').mkdir(parents=True, exist_ok=True)     \r\n",
        "    for filename in os.listdir(f'/content/genres/{g}'):\r\n",
        "        songname = f'/content/genres/{g}/{filename}'\r\n",
        "        y, sr = librosa.load(songname, mono=True, duration=5)\r\n",
        "        plt.specgram(y, NFFT=2048, Fs=2, Fc=0, noverlap=128, cmap=cmap, sides='default', mode='default', scale='dB');\r\n",
        "        plt.axis('off');\r\n",
        "        plt.savefig(f'/content/ouput/{g}/{filename[:-3].replace(\".\", \"\")}.png')\r\n",
        "        plt.clf()"
      ],
      "execution_count": null,
      "outputs": [
        {
          "output_type": "display_data",
          "data": {
            "text/plain": [
              "<Figure size 720x720 with 0 Axes>"
            ]
          },
          "metadata": {
            "tags": []
          }
        }
      ]
    },
    {
      "cell_type": "code",
      "metadata": {
        "id": "8YrujhFWdl_U"
      },
      "source": [
        "header = 'filename chroma_stft rmse spectral_centroid spectral_bandwidth rolloff zero_crossing_rate'\r\n",
        "for i in range(1, 21):\r\n",
        "    header += f' mfcc{i}'\r\n",
        "header += ' label'\r\n",
        "header = header.split()"
      ],
      "execution_count": null,
      "outputs": []
    },
    {
      "cell_type": "code",
      "metadata": {
        "id": "brk3rJQMdmC9"
      },
      "source": [
        "file = open('music_data.csv', 'w', newline='')\r\n",
        "with file:\r\n",
        "    writer = csv.writer(file)\r\n",
        "    writer.writerow(header)\r\n",
        "genres = 'blues classical country disco hiphop jazz metal pop reggae rock'.split()\r\n",
        "for g in genres:\r\n",
        "    for filename in os.listdir(f'/content/genres/{g}'):\r\n",
        "        songname = f'/content/genres/{g}/{filename}'\r\n",
        "        y, sr = librosa.load(songname, mono=True, duration=30)\r\n",
        "        chroma_stft = librosa.feature.chroma_stft(y=y, sr=sr)\r\n",
        "        spec_cent = librosa.feature.spectral_centroid(y=y, sr=sr)\r\n",
        "        spec_bw = librosa.feature.spectral_bandwidth(y=y, sr=sr)\r\n",
        "        rolloff = librosa.feature.spectral_rolloff(y=y, sr=sr)\r\n",
        "        zcr = librosa.feature.zero_crossing_rate(y)\r\n",
        "        rmse = librosa.feature.rms(y)\r\n",
        "        mfcc = librosa.feature.mfcc(y=y, sr=sr)\r\n",
        "        to_append = f'{filename} {np.mean(chroma_stft)} {np.mean(rmse)} {np.mean(spec_cent)} {np.mean(spec_bw)} {np.mean(rolloff)} {np.mean(zcr)}'    \r\n",
        "        for e in mfcc:\r\n",
        "            to_append += f' {np.mean(e)}'\r\n",
        "        to_append += f' {g}'\r\n",
        "        file = open('music_data.csv', 'a', newline='')\r\n",
        "        with file:\r\n",
        "            writer = csv.writer(file)\r\n",
        "            writer.writerow(to_append.split())"
      ],
      "execution_count": null,
      "outputs": []
    },
    {
      "cell_type": "code",
      "metadata": {
        "id": "XvHqVuA6YvPA"
      },
      "source": [
        "music_data = pd.read_csv(\"music_data.csv\")"
      ],
      "execution_count": null,
      "outputs": []
    },
    {
      "cell_type": "code",
      "metadata": {
        "colab": {
          "base_uri": "https://localhost:8080/",
          "height": 224
        },
        "id": "sZ1PoCt-YvRl",
        "outputId": "176ab14a-6cfd-4084-be15-57f4669a408d"
      },
      "source": [
        "music_data.head()"
      ],
      "execution_count": null,
      "outputs": [
        {
          "output_type": "execute_result",
          "data": {
            "text/html": [
              "<div>\n",
              "<style scoped>\n",
              "    .dataframe tbody tr th:only-of-type {\n",
              "        vertical-align: middle;\n",
              "    }\n",
              "\n",
              "    .dataframe tbody tr th {\n",
              "        vertical-align: top;\n",
              "    }\n",
              "\n",
              "    .dataframe thead th {\n",
              "        text-align: right;\n",
              "    }\n",
              "</style>\n",
              "<table border=\"1\" class=\"dataframe\">\n",
              "  <thead>\n",
              "    <tr style=\"text-align: right;\">\n",
              "      <th></th>\n",
              "      <th>filename</th>\n",
              "      <th>chroma_stft</th>\n",
              "      <th>rmse</th>\n",
              "      <th>spectral_centroid</th>\n",
              "      <th>spectral_bandwidth</th>\n",
              "      <th>rolloff</th>\n",
              "      <th>zero_crossing_rate</th>\n",
              "      <th>mfcc1</th>\n",
              "      <th>mfcc2</th>\n",
              "      <th>mfcc3</th>\n",
              "      <th>mfcc4</th>\n",
              "      <th>mfcc5</th>\n",
              "      <th>mfcc6</th>\n",
              "      <th>mfcc7</th>\n",
              "      <th>mfcc8</th>\n",
              "      <th>mfcc9</th>\n",
              "      <th>mfcc10</th>\n",
              "      <th>mfcc11</th>\n",
              "      <th>mfcc12</th>\n",
              "      <th>mfcc13</th>\n",
              "      <th>mfcc14</th>\n",
              "      <th>mfcc15</th>\n",
              "      <th>mfcc16</th>\n",
              "      <th>mfcc17</th>\n",
              "      <th>mfcc18</th>\n",
              "      <th>mfcc19</th>\n",
              "      <th>mfcc20</th>\n",
              "      <th>label</th>\n",
              "    </tr>\n",
              "  </thead>\n",
              "  <tbody>\n",
              "    <tr>\n",
              "      <th>0</th>\n",
              "      <td>blues.00059.au</td>\n",
              "      <td>0.405961</td>\n",
              "      <td>0.169987</td>\n",
              "      <td>2235.906951</td>\n",
              "      <td>2100.004335</td>\n",
              "      <td>4390.031787</td>\n",
              "      <td>0.142288</td>\n",
              "      <td>-86.225304</td>\n",
              "      <td>91.948448</td>\n",
              "      <td>-23.408659</td>\n",
              "      <td>68.253288</td>\n",
              "      <td>-3.895873</td>\n",
              "      <td>22.745262</td>\n",
              "      <td>-9.899613</td>\n",
              "      <td>16.895977</td>\n",
              "      <td>-11.397531</td>\n",
              "      <td>18.431677</td>\n",
              "      <td>-7.015263</td>\n",
              "      <td>10.771054</td>\n",
              "      <td>-11.938685</td>\n",
              "      <td>1.005814</td>\n",
              "      <td>-5.923496</td>\n",
              "      <td>5.318165</td>\n",
              "      <td>-6.140526</td>\n",
              "      <td>1.948991</td>\n",
              "      <td>-5.102755</td>\n",
              "      <td>-0.666248</td>\n",
              "      <td>blues</td>\n",
              "    </tr>\n",
              "    <tr>\n",
              "      <th>1</th>\n",
              "      <td>blues.00048.au</td>\n",
              "      <td>0.379428</td>\n",
              "      <td>0.123986</td>\n",
              "      <td>2148.786199</td>\n",
              "      <td>2204.574064</td>\n",
              "      <td>4673.663406</td>\n",
              "      <td>0.098812</td>\n",
              "      <td>-106.311028</td>\n",
              "      <td>102.630951</td>\n",
              "      <td>-20.155123</td>\n",
              "      <td>59.360367</td>\n",
              "      <td>-9.954543</td>\n",
              "      <td>33.689182</td>\n",
              "      <td>-14.170398</td>\n",
              "      <td>23.509998</td>\n",
              "      <td>-13.314068</td>\n",
              "      <td>16.014284</td>\n",
              "      <td>-18.916981</td>\n",
              "      <td>7.821362</td>\n",
              "      <td>-7.788121</td>\n",
              "      <td>4.047834</td>\n",
              "      <td>-11.340939</td>\n",
              "      <td>2.060218</td>\n",
              "      <td>-5.739425</td>\n",
              "      <td>0.464256</td>\n",
              "      <td>-1.909088</td>\n",
              "      <td>-3.128308</td>\n",
              "      <td>blues</td>\n",
              "    </tr>\n",
              "    <tr>\n",
              "      <th>2</th>\n",
              "      <td>blues.00000.au</td>\n",
              "      <td>0.349943</td>\n",
              "      <td>0.130225</td>\n",
              "      <td>1784.420446</td>\n",
              "      <td>2002.650192</td>\n",
              "      <td>3806.485316</td>\n",
              "      <td>0.083066</td>\n",
              "      <td>-113.596748</td>\n",
              "      <td>121.557297</td>\n",
              "      <td>-19.158825</td>\n",
              "      <td>42.351032</td>\n",
              "      <td>-6.376458</td>\n",
              "      <td>18.618876</td>\n",
              "      <td>-13.697912</td>\n",
              "      <td>15.344631</td>\n",
              "      <td>-12.285267</td>\n",
              "      <td>10.980492</td>\n",
              "      <td>-8.324325</td>\n",
              "      <td>8.810669</td>\n",
              "      <td>-3.667368</td>\n",
              "      <td>5.751691</td>\n",
              "      <td>-5.162763</td>\n",
              "      <td>0.750948</td>\n",
              "      <td>-1.691938</td>\n",
              "      <td>-0.409953</td>\n",
              "      <td>-2.300209</td>\n",
              "      <td>1.219929</td>\n",
              "      <td>blues</td>\n",
              "    </tr>\n",
              "    <tr>\n",
              "      <th>3</th>\n",
              "      <td>blues.00033.au</td>\n",
              "      <td>0.260669</td>\n",
              "      <td>0.133165</td>\n",
              "      <td>1430.582003</td>\n",
              "      <td>2075.602343</td>\n",
              "      <td>3246.730367</td>\n",
              "      <td>0.041970</td>\n",
              "      <td>-239.010910</td>\n",
              "      <td>108.669212</td>\n",
              "      <td>34.149349</td>\n",
              "      <td>30.242792</td>\n",
              "      <td>-0.470996</td>\n",
              "      <td>27.296513</td>\n",
              "      <td>-21.389084</td>\n",
              "      <td>14.155845</td>\n",
              "      <td>-24.505630</td>\n",
              "      <td>-1.876820</td>\n",
              "      <td>-28.052265</td>\n",
              "      <td>-11.258264</td>\n",
              "      <td>-16.484100</td>\n",
              "      <td>-7.636357</td>\n",
              "      <td>-12.796290</td>\n",
              "      <td>-15.352031</td>\n",
              "      <td>-13.732283</td>\n",
              "      <td>-7.400161</td>\n",
              "      <td>-10.083954</td>\n",
              "      <td>-13.285140</td>\n",
              "      <td>blues</td>\n",
              "    </tr>\n",
              "    <tr>\n",
              "      <th>4</th>\n",
              "      <td>blues.00068.au</td>\n",
              "      <td>0.289932</td>\n",
              "      <td>0.103115</td>\n",
              "      <td>2513.716817</td>\n",
              "      <td>2345.230614</td>\n",
              "      <td>5247.443269</td>\n",
              "      <td>0.135146</td>\n",
              "      <td>-113.167763</td>\n",
              "      <td>88.709335</td>\n",
              "      <td>-8.925343</td>\n",
              "      <td>49.487495</td>\n",
              "      <td>-34.580006</td>\n",
              "      <td>15.865089</td>\n",
              "      <td>-17.744377</td>\n",
              "      <td>14.714100</td>\n",
              "      <td>-11.207615</td>\n",
              "      <td>15.366563</td>\n",
              "      <td>-15.081731</td>\n",
              "      <td>8.748788</td>\n",
              "      <td>-18.630899</td>\n",
              "      <td>5.474217</td>\n",
              "      <td>-9.267430</td>\n",
              "      <td>8.017963</td>\n",
              "      <td>-9.552074</td>\n",
              "      <td>5.873594</td>\n",
              "      <td>-4.402835</td>\n",
              "      <td>3.615348</td>\n",
              "      <td>blues</td>\n",
              "    </tr>\n",
              "  </tbody>\n",
              "</table>\n",
              "</div>"
            ],
            "text/plain": [
              "         filename  chroma_stft      rmse  ...     mfcc19     mfcc20  label\n",
              "0  blues.00059.au     0.405961  0.169987  ...  -5.102755  -0.666248  blues\n",
              "1  blues.00048.au     0.379428  0.123986  ...  -1.909088  -3.128308  blues\n",
              "2  blues.00000.au     0.349943  0.130225  ...  -2.300209   1.219929  blues\n",
              "3  blues.00033.au     0.260669  0.133165  ... -10.083954 -13.285140  blues\n",
              "4  blues.00068.au     0.289932  0.103115  ...  -4.402835   3.615348  blues\n",
              "\n",
              "[5 rows x 28 columns]"
            ]
          },
          "metadata": {
            "tags": []
          },
          "execution_count": 34
        }
      ]
    },
    {
      "cell_type": "code",
      "metadata": {
        "colab": {
          "base_uri": "https://localhost:8080/"
        },
        "id": "1Ad4MoxsYvVU",
        "outputId": "ca945360-c04b-4733-e3e7-63aef0babef0"
      },
      "source": [
        "music_data.shape"
      ],
      "execution_count": null,
      "outputs": [
        {
          "output_type": "execute_result",
          "data": {
            "text/plain": [
              "(1000, 28)"
            ]
          },
          "metadata": {
            "tags": []
          },
          "execution_count": 35
        }
      ]
    },
    {
      "cell_type": "code",
      "metadata": {
        "id": "5p5s53WusnE4"
      },
      "source": [
        "music_data = music_data.drop(['filename'],axis=1)"
      ],
      "execution_count": null,
      "outputs": []
    },
    {
      "cell_type": "code",
      "metadata": {
        "id": "Pj_c-ILHsw_A"
      },
      "source": [
        "genre_list = music_data.iloc[:, -1]\r\n",
        "encoder = LabelEncoder()\r\n",
        "y = encoder.fit_transform(genre_list)"
      ],
      "execution_count": null,
      "outputs": []
    },
    {
      "cell_type": "code",
      "metadata": {
        "id": "C444YcVTs06o"
      },
      "source": [
        "scaler = StandardScaler()\r\n",
        "X = scaler.fit_transform(np.array(music_data.iloc[:, :-1], dtype = float))"
      ],
      "execution_count": null,
      "outputs": []
    },
    {
      "cell_type": "markdown",
      "metadata": {
        "id": "lEEVBZ38ack4"
      },
      "source": [
        "## **Split Data into Train and Test dataset**"
      ]
    },
    {
      "cell_type": "code",
      "metadata": {
        "id": "ks3A7Mn7s60c"
      },
      "source": [
        "X_train, X_test, y_train, y_test = train_test_split(X, y, test_size=0.2)"
      ],
      "execution_count": null,
      "outputs": []
    },
    {
      "cell_type": "code",
      "metadata": {
        "colab": {
          "base_uri": "https://localhost:8080/"
        },
        "id": "56NsbhebtA1w",
        "outputId": "83152b5b-be3c-4a4d-e2d7-2bbe79ce84b4"
      },
      "source": [
        "len(y_train)"
      ],
      "execution_count": null,
      "outputs": [
        {
          "output_type": "execute_result",
          "data": {
            "text/plain": [
              "800"
            ]
          },
          "metadata": {
            "tags": []
          },
          "execution_count": 42
        }
      ]
    },
    {
      "cell_type": "code",
      "metadata": {
        "colab": {
          "base_uri": "https://localhost:8080/"
        },
        "id": "ldcXvU2utDek",
        "outputId": "2535b836-3fde-41b4-a2f9-95435bfab145"
      },
      "source": [
        "len(y_test)"
      ],
      "execution_count": null,
      "outputs": [
        {
          "output_type": "execute_result",
          "data": {
            "text/plain": [
              "200"
            ]
          },
          "metadata": {
            "tags": []
          },
          "execution_count": 43
        }
      ]
    },
    {
      "cell_type": "code",
      "metadata": {
        "colab": {
          "base_uri": "https://localhost:8080/"
        },
        "id": "uXqE1vrvtFvN",
        "outputId": "9adef76b-c227-4951-ee16-493ded795f70"
      },
      "source": [
        "X_train[10]"
      ],
      "execution_count": null,
      "outputs": [
        {
          "output_type": "execute_result",
          "data": {
            "text/plain": [
              "array([ 1.01433865,  0.81671353,  0.35988841, -0.04020464,  0.28746135,\n",
              "        0.9376157 ,  1.28698228,  0.01198026, -1.31429583,  0.57113261,\n",
              "       -1.59277563,  0.91571936, -1.34385334,  1.55195153, -1.57117203,\n",
              "        1.66908281, -1.09651671,  0.94660548, -1.71697634,  0.35046924,\n",
              "       -0.75989675,  0.57876513, -0.88358627,  1.63409889,  0.10597742,\n",
              "        1.27175015])"
            ]
          },
          "metadata": {
            "tags": []
          },
          "execution_count": 44
        }
      ]
    },
    {
      "cell_type": "markdown",
      "metadata": {
        "id": "opL5Ac54asYS"
      },
      "source": [
        "## **Model Selection**"
      ]
    },
    {
      "cell_type": "code",
      "metadata": {
        "id": "Mb0PD0cVtHQz"
      },
      "source": [
        "from keras import models\r\n",
        "from keras import layers\r\n",
        "from sklearn.metrics import accuracy_score, precision_score, recall_score, f1_score\r\n",
        "\r\n",
        "model = models.Sequential()\r\n",
        "model.add(layers.Dense(256, activation='relu', input_shape=(X_train.shape[1],)))\r\n",
        "\r\n",
        "model.add(layers.Dense(128, activation='relu'))\r\n",
        "\r\n",
        "model.add(layers.Dense(64, activation='relu'))\r\n",
        "\r\n",
        "model.add(layers.Dense(10, activation='softmax'))"
      ],
      "execution_count": null,
      "outputs": []
    },
    {
      "cell_type": "code",
      "metadata": {
        "id": "n2RfQubWtwnO"
      },
      "source": [
        "model.compile(optimizer='adam',\r\n",
        "              loss='sparse_categorical_crossentropy',\r\n",
        "              metrics=['accuracy'])"
      ],
      "execution_count": null,
      "outputs": []
    },
    {
      "cell_type": "code",
      "metadata": {
        "colab": {
          "base_uri": "https://localhost:8080/"
        },
        "id": "OA8l0Ku2tztd",
        "outputId": "1b04392a-b8fb-4776-8314-834c6b9bf405"
      },
      "source": [
        "history = model.fit(X_train,\r\n",
        "                    y_train,\r\n",
        "                    epochs=20,\r\n",
        "                    batch_size=128)"
      ],
      "execution_count": null,
      "outputs": [
        {
          "output_type": "stream",
          "text": [
            "Epoch 1/20\n",
            "7/7 [==============================] - 1s 4ms/step - loss: 2.2221 - accuracy: 0.1909\n",
            "Epoch 2/20\n",
            "7/7 [==============================] - 0s 4ms/step - loss: 1.8716 - accuracy: 0.3499\n",
            "Epoch 3/20\n",
            "7/7 [==============================] - 0s 4ms/step - loss: 1.6497 - accuracy: 0.3914\n",
            "Epoch 4/20\n",
            "7/7 [==============================] - 0s 5ms/step - loss: 1.4915 - accuracy: 0.4630\n",
            "Epoch 5/20\n",
            "7/7 [==============================] - 0s 3ms/step - loss: 1.3410 - accuracy: 0.5078\n",
            "Epoch 6/20\n",
            "7/7 [==============================] - 0s 3ms/step - loss: 1.2373 - accuracy: 0.5878\n",
            "Epoch 7/20\n",
            "7/7 [==============================] - 0s 3ms/step - loss: 1.1145 - accuracy: 0.6607\n",
            "Epoch 8/20\n",
            "7/7 [==============================] - 0s 3ms/step - loss: 1.0317 - accuracy: 0.6725\n",
            "Epoch 9/20\n",
            "7/7 [==============================] - 0s 3ms/step - loss: 0.9492 - accuracy: 0.6983\n",
            "Epoch 10/20\n",
            "7/7 [==============================] - 0s 3ms/step - loss: 0.9199 - accuracy: 0.6975\n",
            "Epoch 11/20\n",
            "7/7 [==============================] - 0s 4ms/step - loss: 0.8551 - accuracy: 0.7209\n",
            "Epoch 12/20\n",
            "7/7 [==============================] - 0s 4ms/step - loss: 0.8186 - accuracy: 0.7458\n",
            "Epoch 13/20\n",
            "7/7 [==============================] - 0s 3ms/step - loss: 0.7772 - accuracy: 0.7359\n",
            "Epoch 14/20\n",
            "7/7 [==============================] - 0s 4ms/step - loss: 0.7204 - accuracy: 0.7789\n",
            "Epoch 15/20\n",
            "7/7 [==============================] - 0s 4ms/step - loss: 0.6997 - accuracy: 0.7835\n",
            "Epoch 16/20\n",
            "7/7 [==============================] - 0s 4ms/step - loss: 0.6406 - accuracy: 0.8042\n",
            "Epoch 17/20\n",
            "7/7 [==============================] - 0s 4ms/step - loss: 0.6319 - accuracy: 0.7901\n",
            "Epoch 18/20\n",
            "7/7 [==============================] - 0s 3ms/step - loss: 0.6235 - accuracy: 0.8054\n",
            "Epoch 19/20\n",
            "7/7 [==============================] - 0s 4ms/step - loss: 0.5507 - accuracy: 0.8388\n",
            "Epoch 20/20\n",
            "7/7 [==============================] - 0s 3ms/step - loss: 0.5413 - accuracy: 0.8227\n"
          ],
          "name": "stdout"
        }
      ]
    },
    {
      "cell_type": "code",
      "metadata": {
        "colab": {
          "base_uri": "https://localhost:8080/"
        },
        "id": "1yt_UpoZt2CA",
        "outputId": "288440c7-be20-47c0-9f25-1fd0291f9721"
      },
      "source": [
        "test_loss, test_acc = model.evaluate(X_test,y_test)"
      ],
      "execution_count": null,
      "outputs": [
        {
          "output_type": "stream",
          "text": [
            "7/7 [==============================] - 0s 2ms/step - loss: 0.9580 - accuracy: 0.6550\n"
          ],
          "name": "stdout"
        }
      ]
    },
    {
      "cell_type": "code",
      "metadata": {
        "colab": {
          "base_uri": "https://localhost:8080/"
        },
        "id": "3lJsLvimt_kT",
        "outputId": "b45e251d-9ad2-46ac-9c3b-4df4aceea851"
      },
      "source": [
        "print('test_acc: ',test_acc)"
      ],
      "execution_count": null,
      "outputs": [
        {
          "output_type": "stream",
          "text": [
            "test_acc:  0.6549999713897705\n"
          ],
          "name": "stdout"
        }
      ]
    },
    {
      "cell_type": "code",
      "metadata": {
        "id": "9V29-stjuB9-"
      },
      "source": [
        "x_val = X_train[:200]\r\n",
        "partial_x_train = X_train[200:]\r\n",
        "\r\n",
        "y_val = y_train[:200]\r\n",
        "partial_y_train = y_train[200:]"
      ],
      "execution_count": null,
      "outputs": []
    },
    {
      "cell_type": "code",
      "metadata": {
        "colab": {
          "base_uri": "https://localhost:8080/"
        },
        "id": "BskpsQkzuKpp",
        "outputId": "6f50312b-4d2f-4230-c5c9-bf809aac5220"
      },
      "source": [
        "model = models.Sequential()\r\n",
        "model.add(layers.Dense(512, activation='relu', input_shape=(X_train.shape[1],)))\r\n",
        "model.add(layers.Dense(256, activation='relu'))\r\n",
        "model.add(layers.Dense(128, activation='relu'))\r\n",
        "model.add(layers.Dense(64, activation='relu'))\r\n",
        "model.add(layers.Dense(10, activation='softmax'))\r\n",
        "\r\n",
        "model.compile(optimizer='adam',\r\n",
        "              loss='sparse_categorical_crossentropy',\r\n",
        "              metrics=['accuracy'])\r\n",
        "\r\n",
        "model.fit(partial_x_train,\r\n",
        "          partial_y_train,\r\n",
        "          epochs=30,\r\n",
        "          batch_size=512,\r\n",
        "          validation_data=(x_val, y_val))\r\n",
        "results = model.evaluate(X_test, y_test)"
      ],
      "execution_count": null,
      "outputs": [
        {
          "output_type": "stream",
          "text": [
            "Epoch 1/30\n",
            "2/2 [==============================] - 1s 239ms/step - loss: 2.3227 - accuracy: 0.1189 - val_loss: 2.1546 - val_accuracy: 0.3200\n",
            "Epoch 2/30\n",
            "2/2 [==============================] - 0s 49ms/step - loss: 2.1483 - accuracy: 0.3103 - val_loss: 1.9910 - val_accuracy: 0.4150\n",
            "Epoch 3/30\n",
            "2/2 [==============================] - 0s 49ms/step - loss: 2.0035 - accuracy: 0.3734 - val_loss: 1.8224 - val_accuracy: 0.4200\n",
            "Epoch 4/30\n",
            "2/2 [==============================] - 0s 48ms/step - loss: 1.8654 - accuracy: 0.3713 - val_loss: 1.6728 - val_accuracy: 0.4100\n",
            "Epoch 5/30\n",
            "2/2 [==============================] - 0s 47ms/step - loss: 1.7338 - accuracy: 0.3883 - val_loss: 1.5617 - val_accuracy: 0.4500\n",
            "Epoch 6/30\n",
            "2/2 [==============================] - 0s 48ms/step - loss: 1.6159 - accuracy: 0.4211 - val_loss: 1.4793 - val_accuracy: 0.4850\n",
            "Epoch 7/30\n",
            "2/2 [==============================] - 0s 51ms/step - loss: 1.5009 - accuracy: 0.4802 - val_loss: 1.4100 - val_accuracy: 0.5300\n",
            "Epoch 8/30\n",
            "2/2 [==============================] - 0s 49ms/step - loss: 1.4241 - accuracy: 0.5262 - val_loss: 1.3340 - val_accuracy: 0.5350\n",
            "Epoch 9/30\n",
            "2/2 [==============================] - 0s 49ms/step - loss: 1.3460 - accuracy: 0.5624 - val_loss: 1.2561 - val_accuracy: 0.5650\n",
            "Epoch 10/30\n",
            "2/2 [==============================] - 0s 49ms/step - loss: 1.2634 - accuracy: 0.5906 - val_loss: 1.2309 - val_accuracy: 0.5800\n",
            "Epoch 11/30\n",
            "2/2 [==============================] - 0s 48ms/step - loss: 1.2257 - accuracy: 0.5840 - val_loss: 1.1933 - val_accuracy: 0.6200\n",
            "Epoch 12/30\n",
            "2/2 [==============================] - 0s 49ms/step - loss: 1.1440 - accuracy: 0.6332 - val_loss: 1.1829 - val_accuracy: 0.6050\n",
            "Epoch 13/30\n",
            "2/2 [==============================] - 0s 53ms/step - loss: 1.0971 - accuracy: 0.6417 - val_loss: 1.1306 - val_accuracy: 0.6200\n",
            "Epoch 14/30\n",
            "2/2 [==============================] - 0s 60ms/step - loss: 1.0429 - accuracy: 0.6678 - val_loss: 1.0759 - val_accuracy: 0.6600\n",
            "Epoch 15/30\n",
            "2/2 [==============================] - 0s 51ms/step - loss: 1.0092 - accuracy: 0.6563 - val_loss: 1.0444 - val_accuracy: 0.6750\n",
            "Epoch 16/30\n",
            "2/2 [==============================] - 0s 49ms/step - loss: 0.9722 - accuracy: 0.6738 - val_loss: 1.0304 - val_accuracy: 0.6550\n",
            "Epoch 17/30\n",
            "2/2 [==============================] - 0s 50ms/step - loss: 0.9110 - accuracy: 0.7097 - val_loss: 1.0582 - val_accuracy: 0.6450\n",
            "Epoch 18/30\n",
            "2/2 [==============================] - 0s 48ms/step - loss: 0.9012 - accuracy: 0.7011 - val_loss: 1.0618 - val_accuracy: 0.6350\n",
            "Epoch 19/30\n",
            "2/2 [==============================] - 0s 49ms/step - loss: 0.8550 - accuracy: 0.7225 - val_loss: 1.0359 - val_accuracy: 0.6450\n",
            "Epoch 20/30\n",
            "2/2 [==============================] - 0s 53ms/step - loss: 0.8291 - accuracy: 0.7289 - val_loss: 1.0087 - val_accuracy: 0.6500\n",
            "Epoch 21/30\n",
            "2/2 [==============================] - 0s 50ms/step - loss: 0.7900 - accuracy: 0.7434 - val_loss: 0.9755 - val_accuracy: 0.6600\n",
            "Epoch 22/30\n",
            "2/2 [==============================] - 0s 49ms/step - loss: 0.7541 - accuracy: 0.7648 - val_loss: 0.9890 - val_accuracy: 0.6650\n",
            "Epoch 23/30\n",
            "2/2 [==============================] - 0s 50ms/step - loss: 0.7353 - accuracy: 0.7656 - val_loss: 0.9696 - val_accuracy: 0.6550\n",
            "Epoch 24/30\n",
            "2/2 [==============================] - 0s 50ms/step - loss: 0.6996 - accuracy: 0.7772 - val_loss: 1.0022 - val_accuracy: 0.6400\n",
            "Epoch 25/30\n",
            "2/2 [==============================] - 0s 52ms/step - loss: 0.6802 - accuracy: 0.7873 - val_loss: 1.0018 - val_accuracy: 0.6500\n",
            "Epoch 26/30\n",
            "2/2 [==============================] - 0s 49ms/step - loss: 0.6580 - accuracy: 0.7871 - val_loss: 0.9730 - val_accuracy: 0.6550\n",
            "Epoch 27/30\n",
            "2/2 [==============================] - 0s 57ms/step - loss: 0.6064 - accuracy: 0.8144 - val_loss: 0.9769 - val_accuracy: 0.6450\n",
            "Epoch 28/30\n",
            "2/2 [==============================] - 0s 50ms/step - loss: 0.6232 - accuracy: 0.7844 - val_loss: 0.9527 - val_accuracy: 0.6600\n",
            "Epoch 29/30\n",
            "2/2 [==============================] - 0s 50ms/step - loss: 0.5823 - accuracy: 0.8054 - val_loss: 0.9700 - val_accuracy: 0.6600\n",
            "Epoch 30/30\n",
            "2/2 [==============================] - 0s 49ms/step - loss: 0.5629 - accuracy: 0.8320 - val_loss: 1.0120 - val_accuracy: 0.6800\n",
            "7/7 [==============================] - 0s 2ms/step - loss: 1.0143 - accuracy: 0.6750\n"
          ],
          "name": "stdout"
        }
      ]
    },
    {
      "cell_type": "code",
      "metadata": {
        "colab": {
          "base_uri": "https://localhost:8080/"
        },
        "id": "U6Tu4BGxuNMC",
        "outputId": "48df8f9c-da60-48a8-be3f-60333fc16e57"
      },
      "source": [
        "results"
      ],
      "execution_count": null,
      "outputs": [
        {
          "output_type": "execute_result",
          "data": {
            "text/plain": [
              "[1.0143439769744873, 0.675000011920929]"
            ]
          },
          "metadata": {
            "tags": []
          },
          "execution_count": 52
        }
      ]
    },
    {
      "cell_type": "markdown",
      "metadata": {
        "id": "2qtIxHtZa5qC"
      },
      "source": [
        "## **Predict Result on Test dataset**"
      ]
    },
    {
      "cell_type": "code",
      "metadata": {
        "id": "r90r-LZ9uS4m"
      },
      "source": [
        "predictions = model.predict(X_test)"
      ],
      "execution_count": null,
      "outputs": []
    },
    {
      "cell_type": "code",
      "metadata": {
        "colab": {
          "base_uri": "https://localhost:8080/"
        },
        "id": "kISGc1yTuVd3",
        "outputId": "3ab431cc-991e-4653-b4db-7b50430c0b5c"
      },
      "source": [
        "predictions[0].shape"
      ],
      "execution_count": null,
      "outputs": [
        {
          "output_type": "execute_result",
          "data": {
            "text/plain": [
              "(10,)"
            ]
          },
          "metadata": {
            "tags": []
          },
          "execution_count": 54
        }
      ]
    },
    {
      "cell_type": "code",
      "metadata": {
        "colab": {
          "base_uri": "https://localhost:8080/"
        },
        "id": "jQ7ASmRIuW7f",
        "outputId": "9bca7151-f3b1-4a89-ef8e-7732f9c81db5"
      },
      "source": [
        "np.sum(predictions[0])"
      ],
      "execution_count": null,
      "outputs": [
        {
          "output_type": "execute_result",
          "data": {
            "text/plain": [
              "0.99999994"
            ]
          },
          "metadata": {
            "tags": []
          },
          "execution_count": 55
        }
      ]
    },
    {
      "cell_type": "code",
      "metadata": {
        "colab": {
          "base_uri": "https://localhost:8080/"
        },
        "id": "zyndmk67uYd4",
        "outputId": "420a2d69-7981-4718-e0ef-7b9a1edebd95"
      },
      "source": [
        "np.argmax(predictions[0])"
      ],
      "execution_count": null,
      "outputs": [
        {
          "output_type": "execute_result",
          "data": {
            "text/plain": [
              "0"
            ]
          },
          "metadata": {
            "tags": []
          },
          "execution_count": 56
        }
      ]
    },
    {
      "cell_type": "code",
      "metadata": {
        "colab": {
          "base_uri": "https://localhost:8080/"
        },
        "id": "Bj6XJ7Eoua6z",
        "outputId": "1c1a3301-1df3-4a86-dcbe-fa341023a0af"
      },
      "source": [
        "test_pred = model.predict_classes(X_test)\r\n",
        "test_proba = model.predict_proba(X_test)\r\n",
        "test_proba"
      ],
      "execution_count": null,
      "outputs": [
        {
          "output_type": "execute_result",
          "data": {
            "text/plain": [
              "array([[5.8554071e-01, 8.6947321e-04, 1.0828886e-01, ..., 1.7678434e-03,\n",
              "        5.9358697e-02, 1.2666892e-01],\n",
              "       [7.5759039e-05, 9.8157364e-01, 3.6106113e-04, ..., 3.2491582e-05,\n",
              "        2.7662786e-04, 4.7426496e-04],\n",
              "       [1.1461085e-01, 7.9797421e-05, 7.4862581e-01, ..., 9.4212429e-04,\n",
              "        1.1424050e-02, 9.8812595e-02],\n",
              "       ...,\n",
              "       [2.1909881e-01, 1.3619431e-05, 1.6622326e-01, ..., 1.2726654e-04,\n",
              "        9.6479254e-03, 5.7380271e-01],\n",
              "       [1.6883024e-03, 1.5385125e-06, 1.1300856e-03, ..., 5.5736564e-06,\n",
              "        1.8104595e-01, 2.6906973e-03],\n",
              "       [3.4849395e-03, 2.8543421e-03, 2.2076277e-01, ..., 2.1200219e-01,\n",
              "        3.1062126e-02, 1.4662406e-01]], dtype=float32)"
            ]
          },
          "metadata": {
            "tags": []
          },
          "execution_count": 57
        }
      ]
    },
    {
      "cell_type": "code",
      "metadata": {
        "colab": {
          "base_uri": "https://localhost:8080/"
        },
        "id": "-cE6ynKGufRT",
        "outputId": "5bd8538b-a51b-45ca-ca06-d1707bbb0487"
      },
      "source": [
        "accuracy_score(y_test, test_pred)"
      ],
      "execution_count": null,
      "outputs": [
        {
          "output_type": "execute_result",
          "data": {
            "text/plain": [
              "0.675"
            ]
          },
          "metadata": {
            "tags": []
          },
          "execution_count": 58
        }
      ]
    },
    {
      "cell_type": "code",
      "metadata": {
        "id": "qzVQvr0qufl8"
      },
      "source": [
        ""
      ],
      "execution_count": null,
      "outputs": []
    }
  ]
}